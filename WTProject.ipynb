{
 "cells": [
  {
   "cell_type": "code",
   "execution_count": 1,
   "metadata": {
    "scrolled": true
   },
   "outputs": [],
   "source": [
    "import pandas as pd\n",
    "import numpy as np\n",
    "import matplotlib.pyplot as plt\n",
    "from sklearn.model_selection import train_test_split\n",
    "from sklearn.feature_extraction.text import CountVectorizer\n",
    "from sklearn.feature_extraction.text import TfidfTransformer\n",
    "from sklearn.feature_extraction.text import TfidfVectorizer\n",
    "from sklearn.linear_model import LinearRegression, Ridge, Lasso\n",
    "from sklearn.metrics import mean_squared_error, r2_score\n",
    "from sklearn.model_selection import GridSearchCV\n",
    "from sklearn.svm import SVR"
   ]
  },
  {
   "cell_type": "code",
   "execution_count": 2,
   "metadata": {},
   "outputs": [],
   "source": [
    "def normalise_row(row):\n",
    "    normalise_dict = {1 : 12, 2 : 6, 3 : 3, 4 : 3, 5 : 4 , 6 : 4}\n",
    "    #print(row)\n",
    "    #print(row['essay_set'])\n",
    "    return row['domain1_score'] / normalise_dict[row['essay_set']]"
   ]
  },
  {
   "cell_type": "code",
   "execution_count": 3,
   "metadata": {},
   "outputs": [
    {
     "name": "stdout",
     "output_type": "stream",
     "text": [
      "      Unnamed: 0  essay_id  essay_set  \\\n",
      "0              1         1          1   \n",
      "1              2         2          1   \n",
      "2              3         3          1   \n",
      "3              4         4          1   \n",
      "4              5         5          1   \n",
      "5              6         6          1   \n",
      "6              7         7          1   \n",
      "7              8         8          1   \n",
      "8              9         9          1   \n",
      "9             10        10          1   \n",
      "10            11        11          1   \n",
      "11            12        12          1   \n",
      "12            13        13          1   \n",
      "13            14        14          1   \n",
      "14            15        15          1   \n",
      "15            16        16          1   \n",
      "16            17        17          1   \n",
      "17            18        18          1   \n",
      "18            19        19          1   \n",
      "19            20        20          1   \n",
      "20            21        21          1   \n",
      "21            22        22          1   \n",
      "22            23        23          1   \n",
      "23            24        24          1   \n",
      "24            25        25          1   \n",
      "25            26        26          1   \n",
      "26            27        27          1   \n",
      "27            28        28          1   \n",
      "28            29        29          1   \n",
      "29            30        30          1   \n",
      "...          ...       ...        ...   \n",
      "6814        6815     13060          5   \n",
      "6815        6816     13061          5   \n",
      "6816        6817     13062          5   \n",
      "6817        6818     13063          5   \n",
      "6818        6819     13064          5   \n",
      "6819        6820     13065          5   \n",
      "6820        6821     13066          5   \n",
      "6821        6822     13067          5   \n",
      "6822        6823     13068          5   \n",
      "6823        6824     13069          5   \n",
      "6824        6825     13070          5   \n",
      "6825        6826     13071          5   \n",
      "6826        6827     13072          5   \n",
      "6827        6828     13073          5   \n",
      "6828        6829     13074          5   \n",
      "6829        6830     13075          5   \n",
      "6830        6831     13076          5   \n",
      "6831        6832     13077          5   \n",
      "6832        6833     13078          5   \n",
      "6833        6834     13079          5   \n",
      "6834        6835     13080          5   \n",
      "6835        6836     13081          5   \n",
      "6836        6837     13082          5   \n",
      "6837        6838     13083          5   \n",
      "6838        6839     13084          5   \n",
      "6839        6840     13085          5   \n",
      "6840        6841     13086          5   \n",
      "6841        6842     13087          5   \n",
      "6842        6843     13088          5   \n",
      "6843        6844     13089          5   \n",
      "\n",
      "                                                  essay  rater1_domain1  \\\n",
      "0     Dear local newspaper, I think effects computer...               4   \n",
      "1     Dear @CAPS1 @CAPS2, I believe that using compu...               5   \n",
      "2     Dear, @CAPS1 @CAPS2 @CAPS3 More and more peopl...               4   \n",
      "3     Dear Local Newspaper, @CAPS1 I have found that...               5   \n",
      "4     Dear @LOCATION1, I know having computers has a...               4   \n",
      "5     Dear @LOCATION1, I think that computers have a...               4   \n",
      "6     Did you know that more and more people these d...               5   \n",
      "7     @PERCENT1 of people agree that computers make ...               5   \n",
      "8     Dear reader, @ORGANIZATION1 has had a dramatic...               4   \n",
      "9     In the @LOCATION1 we have the technology of a ...               5   \n",
      "10    Dear @LOCATION1, @CAPS1 people acknowledge the...               4   \n",
      "11    Dear @CAPS1 @CAPS2 I feel that computers do ta...               4   \n",
      "12    Dear local newspaper I raed ur argument on the...               4   \n",
      "13    My three detaileds for this news paper article...               3   \n",
      "14    Dear, In this world today we should have every...               3   \n",
      "15    Dear @ORGANIZATION1, The computer blinked to l...               6   \n",
      "16    Dear Local Newspaper, I belive that computers ...               4   \n",
      "17    Dear Local Newspaper, I must admit that the ex...               4   \n",
      "18    I aegre waf the evansmant ov tnachnolage. The ...               2   \n",
      "19    Well computers can be a good or a bad thing. I...               3   \n",
      "20    Dear @CAPS1 of the @CAPS2 @CAPS3 daily, I am w...               4   \n",
      "21    Dear local Newspaper @CAPS1 a take all your co...               2   \n",
      "22    Dear local newspaper, @CAPS1 you ever see a ch...               5   \n",
      "23    Dear local newspaper, I've heard that not many...               6   \n",
      "24    Dear @CAPS1, @CAPS2 off, I beileve that comput...               4   \n",
      "25    Do you think that computers are useless? Or do...               5   \n",
      "26    Computers a good because you can get infermati...               2   \n",
      "27    Dear Newspaper, Computers are high tec and hav...               5   \n",
      "28    Dear local newspaper, @CAPS1 people throughout...               5   \n",
      "29    Dear Newspaper People, I think that computers ...               4   \n",
      "...                                                 ...             ...   \n",
      "6814  The mood of the @CAPS1 of the text \"Narciso Ro...               2   \n",
      "6815  I think the mood was happy and @CAPS1. Because...               1   \n",
      "6816  The author created a mood of happiness and lov...               2   \n",
      "6817  The mood created by the author in this memoir ...               1   \n",
      "6818  The mood created by the author in the memoir w...               2   \n",
      "6819  In this @CAPS1 this is the mood I think the au...               1   \n",
      "6820  The memoir of the author were of is house as a...               0   \n",
      "6821  The author did a good job bringing different m...               0   \n",
      "6822  Throughout this @CAPS1 there is a very happy a...               2   \n",
      "6823  It brings a happy mood. It brings a very warm ...               1   \n",
      "6824  The mood created by the author in this memoir ...               2   \n",
      "6825  In the memoir @PERSON1 from Home: The Blueprin...               4   \n",
      "6826  The mood was calm as if it was a wonderful pla...               1   \n",
      "6827  In this memoir, there are many moods created b...               3   \n",
      "6828  The mood created by the author in this memoir ...               3   \n",
      "6829  The mood the @CAPS1 created in the memoir is a...               2   \n",
      "6830  I think the mood that is created by the author...               2   \n",
      "6831  The @CAPS1 of the @CAPS2 was happiness and out...               1   \n",
      "6832  In the memoir, the author creates a loving moo...               3   \n",
      "6833  While reading the memoir titled \"Narciso Rodri...               4   \n",
      "6834  The mood created by the author in the memoir w...               4   \n",
      "6835  The mood of the memoir is very appreciative an...               4   \n",
      "6836  The author fellt happ she war born in the @CAP...               1   \n",
      "6837  In the memoir, by Narciso Rodriguez the mood c...               3   \n",
      "6838  I think the mood the author is trying to give ...               3   \n",
      "6839  The mood created by Narciso Rodriguez in this ...               2   \n",
      "6840  Narciso Rodriguez sent a very loving and invit...               3   \n",
      "6841  In the memoir of \"Narciso Rodriguez\" by Narcis...               2   \n",
      "6842  The mood of the author changed during the memo...               1   \n",
      "6843  @CAPS4 on the article Narciso Rodriguez by fro...              10   \n",
      "\n",
      "      rater2_domain1  rater3_domain1  domain1_score  rater1_domain2  \\\n",
      "0                  4             NaN       0.666667             NaN   \n",
      "1                  4             NaN       0.750000             NaN   \n",
      "2                  3             NaN       0.583333             NaN   \n",
      "3                  5             NaN       0.833333             NaN   \n",
      "4                  4             NaN       0.666667             NaN   \n",
      "5                  4             NaN       0.666667             NaN   \n",
      "6                  5             NaN       0.833333             NaN   \n",
      "7                  5             NaN       0.833333             NaN   \n",
      "8                  5             NaN       0.750000             NaN   \n",
      "9                  4             NaN       0.750000             NaN   \n",
      "10                 4             NaN       0.666667             NaN   \n",
      "11                 4             NaN       0.666667             NaN   \n",
      "12                 3             NaN       0.583333             NaN   \n",
      "13                 3             NaN       0.500000             NaN   \n",
      "14                 3             NaN       0.500000             NaN   \n",
      "15                 6             NaN       1.000000             NaN   \n",
      "16                 4             NaN       0.666667             NaN   \n",
      "17                 4             NaN       0.666667             NaN   \n",
      "18                 2             NaN       0.333333             NaN   \n",
      "19                 3             NaN       0.500000             NaN   \n",
      "20                 4             NaN       0.666667             NaN   \n",
      "21                 1             NaN       0.250000             NaN   \n",
      "22                 5             NaN       0.833333             NaN   \n",
      "23                 5             NaN       0.916667             NaN   \n",
      "24                 4             NaN       0.666667             NaN   \n",
      "25                 4             NaN       0.750000             NaN   \n",
      "26                 2             NaN       0.333333             NaN   \n",
      "27                 4             NaN       0.750000             NaN   \n",
      "28                 4             NaN       0.750000             NaN   \n",
      "29                 4             NaN       0.666667             NaN   \n",
      "...              ...             ...            ...             ...   \n",
      "6814               2             NaN       0.500000             NaN   \n",
      "6815               1             NaN       0.250000             NaN   \n",
      "6816               1             NaN       0.500000             NaN   \n",
      "6817               1             NaN       0.250000             NaN   \n",
      "6818               2             NaN       0.500000             NaN   \n",
      "6819               1             NaN       0.250000             NaN   \n",
      "6820               0             NaN       0.000000             NaN   \n",
      "6821               1             NaN       0.250000             NaN   \n",
      "6822               2             NaN       0.500000             NaN   \n",
      "6823               2             NaN       0.500000             NaN   \n",
      "6824               2             NaN       0.500000             NaN   \n",
      "6825               4             NaN       1.000000             NaN   \n",
      "6826               2             NaN       0.500000             NaN   \n",
      "6827               3             NaN       0.750000             NaN   \n",
      "6828               3             NaN       0.750000             NaN   \n",
      "6829               3             NaN       0.750000             NaN   \n",
      "6830               2             NaN       0.500000             NaN   \n",
      "6831               1             NaN       0.250000             NaN   \n",
      "6832               3             NaN       0.750000             NaN   \n",
      "6833               4             NaN       1.000000             NaN   \n",
      "6834               4             NaN       1.000000             NaN   \n",
      "6835               4             NaN       1.000000             NaN   \n",
      "6836               0             NaN       0.250000             NaN   \n",
      "6837               4             NaN       1.000000             NaN   \n",
      "6838               2             NaN       0.500000             NaN   \n",
      "6839               2             NaN       0.500000             NaN   \n",
      "6840               2             NaN       0.750000             NaN   \n",
      "6841               2             NaN       0.500000             NaN   \n",
      "6842               1             NaN       0.250000             NaN   \n",
      "6843              10             NaN       5.000000             NaN   \n",
      "\n",
      "      rater2_domain2  ...  rater2_trait3  rater2_trait4  rater2_trait5  \\\n",
      "0                NaN  ...            NaN            NaN            NaN   \n",
      "1                NaN  ...            NaN            NaN            NaN   \n",
      "2                NaN  ...            NaN            NaN            NaN   \n",
      "3                NaN  ...            NaN            NaN            NaN   \n",
      "4                NaN  ...            NaN            NaN            NaN   \n",
      "5                NaN  ...            NaN            NaN            NaN   \n",
      "6                NaN  ...            NaN            NaN            NaN   \n",
      "7                NaN  ...            NaN            NaN            NaN   \n",
      "8                NaN  ...            NaN            NaN            NaN   \n",
      "9                NaN  ...            NaN            NaN            NaN   \n",
      "10               NaN  ...            NaN            NaN            NaN   \n",
      "11               NaN  ...            NaN            NaN            NaN   \n",
      "12               NaN  ...            NaN            NaN            NaN   \n",
      "13               NaN  ...            NaN            NaN            NaN   \n",
      "14               NaN  ...            NaN            NaN            NaN   \n",
      "15               NaN  ...            NaN            NaN            NaN   \n",
      "16               NaN  ...            NaN            NaN            NaN   \n",
      "17               NaN  ...            NaN            NaN            NaN   \n",
      "18               NaN  ...            NaN            NaN            NaN   \n",
      "19               NaN  ...            NaN            NaN            NaN   \n",
      "20               NaN  ...            NaN            NaN            NaN   \n",
      "21               NaN  ...            NaN            NaN            NaN   \n",
      "22               NaN  ...            NaN            NaN            NaN   \n",
      "23               NaN  ...            NaN            NaN            NaN   \n",
      "24               NaN  ...            NaN            NaN            NaN   \n",
      "25               NaN  ...            NaN            NaN            NaN   \n",
      "26               NaN  ...            NaN            NaN            NaN   \n",
      "27               NaN  ...            NaN            NaN            NaN   \n",
      "28               NaN  ...            NaN            NaN            NaN   \n",
      "29               NaN  ...            NaN            NaN            NaN   \n",
      "...              ...  ...            ...            ...            ...   \n",
      "6814             NaN  ...            NaN            NaN            NaN   \n",
      "6815             NaN  ...            NaN            NaN            NaN   \n",
      "6816             NaN  ...            NaN            NaN            NaN   \n",
      "6817             NaN  ...            NaN            NaN            NaN   \n",
      "6818             NaN  ...            NaN            NaN            NaN   \n",
      "6819             NaN  ...            NaN            NaN            NaN   \n",
      "6820             NaN  ...            NaN            NaN            NaN   \n",
      "6821             NaN  ...            NaN            NaN            NaN   \n",
      "6822             NaN  ...            NaN            NaN            NaN   \n",
      "6823             NaN  ...            NaN            NaN            NaN   \n",
      "6824             NaN  ...            NaN            NaN            NaN   \n",
      "6825             NaN  ...            NaN            NaN            NaN   \n",
      "6826             NaN  ...            NaN            NaN            NaN   \n",
      "6827             NaN  ...            NaN            NaN            NaN   \n",
      "6828             NaN  ...            NaN            NaN            NaN   \n",
      "6829             NaN  ...            NaN            NaN            NaN   \n",
      "6830             NaN  ...            NaN            NaN            NaN   \n",
      "6831             NaN  ...            NaN            NaN            NaN   \n",
      "6832             NaN  ...            NaN            NaN            NaN   \n",
      "6833             NaN  ...            NaN            NaN            NaN   \n",
      "6834             NaN  ...            NaN            NaN            NaN   \n",
      "6835             NaN  ...            NaN            NaN            NaN   \n",
      "6836             NaN  ...            NaN            NaN            NaN   \n",
      "6837             NaN  ...            NaN            NaN            NaN   \n",
      "6838             NaN  ...            NaN            NaN            NaN   \n",
      "6839             NaN  ...            NaN            NaN            NaN   \n",
      "6840             NaN  ...            NaN            NaN            NaN   \n",
      "6841             NaN  ...            NaN            NaN            NaN   \n",
      "6842             NaN  ...            NaN            NaN            NaN   \n",
      "6843             NaN  ...            2.0            3.0            NaN   \n",
      "\n",
      "      rater2_trait6  rater3_trait1  rater3_trait2  rater3_trait3  \\\n",
      "0               NaN            NaN            NaN            NaN   \n",
      "1               NaN            NaN            NaN            NaN   \n",
      "2               NaN            NaN            NaN            NaN   \n",
      "3               NaN            NaN            NaN            NaN   \n",
      "4               NaN            NaN            NaN            NaN   \n",
      "5               NaN            NaN            NaN            NaN   \n",
      "6               NaN            NaN            NaN            NaN   \n",
      "7               NaN            NaN            NaN            NaN   \n",
      "8               NaN            NaN            NaN            NaN   \n",
      "9               NaN            NaN            NaN            NaN   \n",
      "10              NaN            NaN            NaN            NaN   \n",
      "11              NaN            NaN            NaN            NaN   \n",
      "12              NaN            NaN            NaN            NaN   \n",
      "13              NaN            NaN            NaN            NaN   \n",
      "14              NaN            NaN            NaN            NaN   \n",
      "15              NaN            NaN            NaN            NaN   \n",
      "16              NaN            NaN            NaN            NaN   \n",
      "17              NaN            NaN            NaN            NaN   \n",
      "18              NaN            NaN            NaN            NaN   \n",
      "19              NaN            NaN            NaN            NaN   \n",
      "20              NaN            NaN            NaN            NaN   \n",
      "21              NaN            NaN            NaN            NaN   \n",
      "22              NaN            NaN            NaN            NaN   \n",
      "23              NaN            NaN            NaN            NaN   \n",
      "24              NaN            NaN            NaN            NaN   \n",
      "25              NaN            NaN            NaN            NaN   \n",
      "26              NaN            NaN            NaN            NaN   \n",
      "27              NaN            NaN            NaN            NaN   \n",
      "28              NaN            NaN            NaN            NaN   \n",
      "29              NaN            NaN            NaN            NaN   \n",
      "...             ...            ...            ...            ...   \n",
      "6814            NaN            NaN            NaN            NaN   \n",
      "6815            NaN            NaN            NaN            NaN   \n",
      "6816            NaN            NaN            NaN            NaN   \n",
      "6817            NaN            NaN            NaN            NaN   \n",
      "6818            NaN            NaN            NaN            NaN   \n",
      "6819            NaN            NaN            NaN            NaN   \n",
      "6820            NaN            NaN            NaN            NaN   \n",
      "6821            NaN            NaN            NaN            NaN   \n",
      "6822            NaN            NaN            NaN            NaN   \n",
      "6823            NaN            NaN            NaN            NaN   \n",
      "6824            NaN            NaN            NaN            NaN   \n",
      "6825            NaN            NaN            NaN            NaN   \n",
      "6826            NaN            NaN            NaN            NaN   \n",
      "6827            NaN            NaN            NaN            NaN   \n",
      "6828            NaN            NaN            NaN            NaN   \n",
      "6829            NaN            NaN            NaN            NaN   \n",
      "6830            NaN            NaN            NaN            NaN   \n",
      "6831            NaN            NaN            NaN            NaN   \n",
      "6832            NaN            NaN            NaN            NaN   \n",
      "6833            NaN            NaN            NaN            NaN   \n",
      "6834            NaN            NaN            NaN            NaN   \n",
      "6835            NaN            NaN            NaN            NaN   \n",
      "6836            NaN            NaN            NaN            NaN   \n",
      "6837            NaN            NaN            NaN            NaN   \n",
      "6838            NaN            NaN            NaN            NaN   \n",
      "6839            NaN            NaN            NaN            NaN   \n",
      "6840            NaN            NaN            NaN            NaN   \n",
      "6841            NaN            NaN            NaN            NaN   \n",
      "6842            NaN            NaN            NaN            NaN   \n",
      "6843            NaN            NaN            NaN            NaN   \n",
      "\n",
      "      rater3_trait4  rater3_trait5  rater3_trait6  \n",
      "0               NaN            NaN            NaN  \n",
      "1               NaN            NaN            NaN  \n",
      "2               NaN            NaN            NaN  \n",
      "3               NaN            NaN            NaN  \n",
      "4               NaN            NaN            NaN  \n",
      "5               NaN            NaN            NaN  \n",
      "6               NaN            NaN            NaN  \n",
      "7               NaN            NaN            NaN  \n",
      "8               NaN            NaN            NaN  \n",
      "9               NaN            NaN            NaN  \n",
      "10              NaN            NaN            NaN  \n",
      "11              NaN            NaN            NaN  \n",
      "12              NaN            NaN            NaN  \n",
      "13              NaN            NaN            NaN  \n",
      "14              NaN            NaN            NaN  \n",
      "15              NaN            NaN            NaN  \n",
      "16              NaN            NaN            NaN  \n",
      "17              NaN            NaN            NaN  \n",
      "18              NaN            NaN            NaN  \n",
      "19              NaN            NaN            NaN  \n",
      "20              NaN            NaN            NaN  \n",
      "21              NaN            NaN            NaN  \n",
      "22              NaN            NaN            NaN  \n",
      "23              NaN            NaN            NaN  \n",
      "24              NaN            NaN            NaN  \n",
      "25              NaN            NaN            NaN  \n",
      "26              NaN            NaN            NaN  \n",
      "27              NaN            NaN            NaN  \n",
      "28              NaN            NaN            NaN  \n",
      "29              NaN            NaN            NaN  \n",
      "...             ...            ...            ...  \n",
      "6814            NaN            NaN            NaN  \n",
      "6815            NaN            NaN            NaN  \n",
      "6816            NaN            NaN            NaN  \n",
      "6817            NaN            NaN            NaN  \n",
      "6818            NaN            NaN            NaN  \n",
      "6819            NaN            NaN            NaN  \n",
      "6820            NaN            NaN            NaN  \n",
      "6821            NaN            NaN            NaN  \n",
      "6822            NaN            NaN            NaN  \n",
      "6823            NaN            NaN            NaN  \n",
      "6824            NaN            NaN            NaN  \n",
      "6825            NaN            NaN            NaN  \n",
      "6826            NaN            NaN            NaN  \n",
      "6827            NaN            NaN            NaN  \n",
      "6828            NaN            NaN            NaN  \n",
      "6829            NaN            NaN            NaN  \n",
      "6830            NaN            NaN            NaN  \n",
      "6831            NaN            NaN            NaN  \n",
      "6832            NaN            NaN            NaN  \n",
      "6833            NaN            NaN            NaN  \n",
      "6834            NaN            NaN            NaN  \n",
      "6835            NaN            NaN            NaN  \n",
      "6836            NaN            NaN            NaN  \n",
      "6837            NaN            NaN            NaN  \n",
      "6838            NaN            NaN            NaN  \n",
      "6839            NaN            NaN            NaN  \n",
      "6840            NaN            NaN            NaN  \n",
      "6841            NaN            NaN            NaN  \n",
      "6842            NaN            NaN            NaN  \n",
      "6843            NaN            NaN            NaN  \n",
      "\n",
      "[6844 rows x 29 columns]\n"
     ]
    }
   ],
   "source": [
    "# read the data file\n",
    "essays = pd.read_csv(\"essays.csv\", encoding = 'latin1')\n",
    "print(essays)"
   ]
  },
  {
   "cell_type": "code",
   "execution_count": 4,
   "metadata": {},
   "outputs": [
    {
     "data": {
      "text/plain": [
       "<matplotlib.axes._subplots.AxesSubplot at 0x1edece62630>"
      ]
     },
     "execution_count": 4,
     "metadata": {},
     "output_type": "execute_result"
    },
    {
     "data": {
      "image/png": "[encoded data removed]",
      "text/plain": [
       "<Figure size 720x720 with 1 Axes>"
      ]
     },
     "metadata": {
      "needs_background": "light"
     },
     "output_type": "display_data"
    }
   ],
   "source": [
    "# see domain1_score distribution\n",
    "\n",
    "%matplotlib inline \n",
    "essays.boxplot(column = 'domain1_score', by = 'essay_set', figsize = (10,10))\n"
   ]
  },
  {
   "cell_type": "code",
   "execution_count": 5,
   "metadata": {},
   "outputs": [],
   "source": [
    "#  important for prediction\n",
    "\n",
    "essay_data = essays[['essay_set', 'essay', 'domain1_score']].copy()\n",
    "essay = essays['essay']\n",
    "essay_score = essays['domain1_score']"
   ]
  },
  {
   "cell_type": "code",
   "execution_count": 6,
   "metadata": {},
   "outputs": [
    {
     "name": "stderr",
     "output_type": "stream",
     "text": [
      "C:\\Users\\swath\\Anaconda3\\lib\\site-packages\\ipykernel_launcher.py:7: FutureWarning: Method .as_matrix will be removed in a future version. Use .values instead.\n",
      "  import sys\n"
     ]
    }
   ],
   "source": [
    "# using bag of words\n",
    "vectorizer = CountVectorizer(stop_words='english')\n",
    "count_vectors = vectorizer.fit_transform(essay_data[(essay_data['essay_set'] == 1) | (essay_data['essay_set'] == 2)]['essay'])\n",
    "feature_names = vectorizer.get_feature_names()\n",
    "\n",
    "X = count_vectors.toarray()\n",
    "y = essay_data[(essay_data['essay_set'] == 1) | (essay_data['essay_set'] == 2)]['domain1_score'].as_matrix()\n",
    "\n",
    "X_train,X_test, y_train, y_test = train_test_split(X,y,test_size = 0.30)\n"
   ]
  },
  {
   "cell_type": "code",
   "execution_count": 7,
   "metadata": {},
   "outputs": [
    {
     "name": "stdout",
     "output_type": "stream",
     "text": [
      "[[0 0 0 ... 0 0 0]\n",
      " [0 0 0 ... 0 0 0]\n",
      " [0 0 0 ... 0 0 0]\n",
      " ...\n",
      " [0 0 0 ... 0 0 0]\n",
      " [0 0 0 ... 0 0 0]\n",
      " [0 0 0 ... 0 0 0]]\n"
     ]
    }
   ],
   "source": [
    "print(X_train)"
   ]
  },
  {
   "cell_type": "code",
   "execution_count": 8,
   "metadata": {},
   "outputs": [
    {
     "name": "stdout",
     "output_type": "stream",
     "text": [
      "Coefficients: \n",
      " [ 0.00052069  0.00407278 -0.0087031  ...  0.00822422  0.00401609\n",
      "  0.00328218]\n",
      "Mean squared error: 10.89\n",
      "[1, 1, 1, 1, 1, 1, 2, 1, 1, 1, 1, 2, 1, 1, 5, 3, 1, 2, 1, 1, 2, 12, 1, 1, 1, 1, 4, 1, 4, 1, 1, 1, 1, 1, 2, 1, 1, 4, 5, 3, 1, 1, 1, 1, 1, 1, 1, 1, 1, 1, 1, 1, 1, 1, 1, 1, 2, 1, 1, 1, 2, 1, 1, 2, 5, 1, 1, 1, 1, 2, 2, 1, 1, 1, 1, 1, 1, 6, 1, 1, 1, 2, 1, 1, 2, 1, 2, 1, 3, 1, 2, 2, 3, 2, 1, 2, 9, 1, 1, 1, 2, 2, 1, 2, 1, 2, 1, 2, 1]\n",
      "Please enter the test case as per format in essays.csv (sample displayed above): \n",
      "0\n",
      "Predicted - linear regression\n",
      "0.6118414098932918\n",
      "1.0\n"
     ]
    }
   ],
   "source": [
    "# first lets try linear Regression\n",
    "\n",
    "linear_regressor = LinearRegression()\n",
    "\n",
    "linear_regressor.fit(X_train, y_train)\n",
    "\n",
    "y_pred = linear_regressor.predict(X_test)\n",
    "\n",
    "#print(y_pred)\n",
    "\n",
    "print('Coefficients: \\n', linear_regressor.coef_)\n",
    "\n",
    "print(\"Mean squared error: %.2f\" % mean_squared_error(y_test, y_pred))\n",
    "\n",
    "print([i for i in X_test[0] if i!=0])\n",
    "\n",
    "print(\"Please enter the test case as per format in essays.csv (sample displayed above): \")\n",
    "xtest= input()\n",
    "\n",
    "ypred = linear_regressor.predict([X_test[0]])   #change to xtest[i] where i is the index of test case\n",
    "\n",
    "print(\"Predicted - linear regression\")\n",
    "for i in list(ypred):\n",
    "    print(i)\n",
    "    print(np.ceil(i))"
   ]
  },
  {
   "cell_type": "code",
   "execution_count": 9,
   "metadata": {},
   "outputs": [
    {
     "name": "stderr",
     "output_type": "stream",
     "text": [
      "C:\\Users\\swath\\Anaconda3\\lib\\site-packages\\sklearn\\model_selection\\_split.py:1978: FutureWarning: The default value of cv will change from 3 to 5 in version 0.22. Specify it explicitly to silence this warning.\n",
      "  warnings.warn(CV_WARNING, FutureWarning)\n",
      "C:\\Users\\swath\\Anaconda3\\lib\\site-packages\\sklearn\\model_selection\\_search.py:813: DeprecationWarning: The default of the `iid` parameter will change from True to False in version 0.22 and will be removed in 0.24. This will change numeric results when test-set sizes are unequal.\n",
      "  DeprecationWarning)\n"
     ]
    },
    {
     "name": "stdout",
     "output_type": "stream",
     "text": [
      "Mean squared error: 0.02\n",
      "Please enter the test case as per format in essays.csv (sample displayed above): \n",
      "0\n",
      "Predicted - lasso regression\n",
      "0.625508736793184\n",
      "1.0\n"
     ]
    }
   ],
   "source": [
    "# lets try a lasso regression model\n",
    "\n",
    "alphas = np.array([3, 1, 0.3, 0.1])\n",
    "\n",
    "lasso_regressor = Lasso()\n",
    "\n",
    "grid = GridSearchCV(estimator = lasso_regressor, param_grid = dict(alpha=alphas))\n",
    "grid.fit(X_train, y_train)\n",
    "\n",
    "y_pred = grid.predict(X_test)\n",
    "\n",
    "print(\"Mean squared error: %.2f\" % mean_squared_error(y_test, y_pred))\n",
    "\n",
    "#print('Coefficients: \\n', lasso_regressor.coef_)\n",
    "\n",
    "print(\"Please enter the test case as per format in essays.csv (sample displayed above): \")\n",
    "xtest= input()\n",
    "\n",
    "ypred = grid.predict([X_test[0]])   #change to xtest[i] where i is the index of test case\n",
    "\n",
    "print(\"Predicted - lasso regression\")\n",
    "for i in list(ypred):\n",
    "    print(i)\n",
    "    print(np.ceil(i))"
   ]
  },
  {
   "cell_type": "code",
   "execution_count": 10,
   "metadata": {},
   "outputs": [
    {
     "name": "stderr",
     "output_type": "stream",
     "text": [
      "C:\\Users\\swath\\Anaconda3\\lib\\site-packages\\sklearn\\svm\\base.py:193: FutureWarning: The default value of gamma will change from 'auto' to 'scale' in version 0.22 to account better for unscaled features. Set gamma explicitly to 'auto' or 'scale' to avoid this warning.\n",
      "  \"avoid this warning.\", FutureWarning)\n"
     ]
    },
    {
     "name": "stdout",
     "output_type": "stream",
     "text": [
      "Mean squared error: 0.01\n",
      "Please enter the test case as per format in essays.csv (sample displayed above): \n",
      "0\n",
      "SVM -rbf kernel\n",
      "0.6800067920017965\n",
      "1.0\n"
     ]
    }
   ],
   "source": [
    "# lets also try SVMs\n",
    "svr = SVR(kernel='rbf')\n",
    "svr.fit(X_train,y_train)\n",
    "\n",
    "y_pred = svr.predict(X_test)\n",
    "\n",
    "print(\"Mean squared error: %.2f\" % mean_squared_error(y_test,y_pred))\n",
    "\n",
    "print(\"Please enter the test case as per format in essays.csv (sample displayed above): \")\n",
    "xtest= input()\n",
    "\n",
    "ypred = svr.predict([X_test[0]])   #change to xtest[i] where i is the index of test case\n",
    "\n",
    "print(\"SVM -rbf kernel\")\n",
    "for i in list(ypred):\n",
    "    print(i)\n",
    "    print(np.ceil(i))"
   ]
  },
  {
   "cell_type": "code",
   "execution_count": 11,
   "metadata": {},
   "outputs": [
    {
     "name": "stderr",
     "output_type": "stream",
     "text": [
      "C:\\Users\\swath\\Anaconda3\\lib\\site-packages\\sklearn\\svm\\base.py:193: FutureWarning: The default value of gamma will change from 'auto' to 'scale' in version 0.22 to account better for unscaled features. Set gamma explicitly to 'auto' or 'scale' to avoid this warning.\n",
      "  \"avoid this warning.\", FutureWarning)\n",
      "C:\\Users\\swath\\Anaconda3\\lib\\site-packages\\sklearn\\svm\\base.py:193: FutureWarning: The default value of gamma will change from 'auto' to 'scale' in version 0.22 to account better for unscaled features. Set gamma explicitly to 'auto' or 'scale' to avoid this warning.\n",
      "  \"avoid this warning.\", FutureWarning)\n",
      "C:\\Users\\swath\\Anaconda3\\lib\\site-packages\\sklearn\\svm\\base.py:193: FutureWarning: The default value of gamma will change from 'auto' to 'scale' in version 0.22 to account better for unscaled features. Set gamma explicitly to 'auto' or 'scale' to avoid this warning.\n",
      "  \"avoid this warning.\", FutureWarning)\n"
     ]
    },
    {
     "name": "stdout",
     "output_type": "stream",
     "text": [
      "[6.056190281453591, 0.008595754171798047, 31.44943886395372, 27.603264812111846]\n"
     ]
    }
   ],
   "source": [
    "# see which svm model is the best\n",
    "\n",
    "options = ['linear','rbf','poly','sigmoid']\n",
    "mse = []\n",
    "\n",
    "for option in options:\n",
    "    svr = SVR(kernel=option)\n",
    "    svr.fit(X_train,y_train)\n",
    "    \n",
    "    y_pred = svr.predict(X_test)\n",
    "    \n",
    "    mse.append(mean_squared_error(y_test,y_pred))\n",
    "    \n",
    "print(mse)"
   ]
  },
  {
   "cell_type": "code",
   "execution_count": 12,
   "metadata": {},
   "outputs": [
    {
     "data": {
      "image/png": "[encoded data removed]",
      "text/plain": [
       "<Figure size 432x288 with 1 Axes>"
      ]
     },
     "metadata": {
      "needs_background": "light"
     },
     "output_type": "display_data"
    }
   ],
   "source": [
    " \n",
    "objects = ('linear','rbf','poly','sigmoid')\n",
    "y_pos = np.arange(len(objects))\n",
    " \n",
    "plt.bar(y_pos, mse, align='center', alpha=0.5)\n",
    "plt.xticks(y_pos, objects)\n",
    "plt.ylabel('Mean Squared Error')\n",
    "plt.title('SVM for different kernels')\n",
    " \n",
    "plt.show()"
   ]
  },
  {
   "cell_type": "code",
   "execution_count": 13,
   "metadata": {},
   "outputs": [],
   "source": [
    "# lets try with tfidf\n",
    "\n",
    "vectorizer = TfidfVectorizer(stop_words='english')\n",
    "X = vectorizer.fit_transform(essay_data[(essay_data['essay_set'] == 1) | (essay_data['essay_set'] == 2)]['essay'])\n",
    "y = essay_data[(essay_data['essay_set'] == 1) | (essay_data['essay_set'] == 2)]['domain1_score']\n",
    "\n",
    "X_train, X_test, y_train, y_test = train_test_split(X, y, test_size=0.30, random_state=42)"
   ]
  },
  {
   "cell_type": "code",
   "execution_count": 14,
   "metadata": {},
   "outputs": [
    {
     "name": "stdout",
     "output_type": "stream",
     "text": [
      "(2120, 23564)\n"
     ]
    }
   ],
   "source": [
    "print(X_train.shape)"
   ]
  },
  {
   "cell_type": "code",
   "execution_count": 18,
   "metadata": {},
   "outputs": [
    {
     "name": "stdout",
     "output_type": "stream",
     "text": [
      "Coefficients: \n",
      " [ 0.01676959  0.02461724 -0.07299951 ... -0.0011345   0.02618563\n",
      "  0.01734031]\n",
      "Mean squared error: 0.01\n",
      "Predicted - linear regression\n",
      "0.7444998061143508\n",
      "1.0\n"
     ]
    }
   ],
   "source": [
    "# first lets try linear Regression\n",
    "\n",
    "linear_regressor = LinearRegression()\n",
    "\n",
    "linear_regressor.fit(X_train, y_train)\n",
    "\n",
    "y_pred = linear_regressor.predict(X_test)\n",
    "\n",
    "print('Coefficients: \\n', linear_regressor.coef_)\n",
    "\n",
    "print(\"Mean squared error: %.2f\" % mean_squared_error(y_test, y_pred))\n",
    "\n",
    "ypred = linear_regressor.predict(X_test[0].reshape(1,-1))   #change to xtest[i] where i is the index of test case\n",
    "\n",
    "print(\"Predicted - linear regression\")\n",
    "for i in list(ypred):\n",
    "    print(i)\n",
    "    print(np.ceil(i))"
   ]
  },
  {
   "cell_type": "code",
   "execution_count": 19,
   "metadata": {},
   "outputs": [
    {
     "name": "stderr",
     "output_type": "stream",
     "text": [
      "C:\\Users\\swath\\Anaconda3\\lib\\site-packages\\sklearn\\model_selection\\_split.py:1978: FutureWarning: The default value of cv will change from 3 to 5 in version 0.22. Specify it explicitly to silence this warning.\n",
      "  warnings.warn(CV_WARNING, FutureWarning)\n"
     ]
    },
    {
     "name": "stdout",
     "output_type": "stream",
     "text": [
      "Mean squared error: 0.02\n",
      "Predicted - lasso regression\n",
      "0.6237028301886793\n",
      "1.0\n"
     ]
    }
   ],
   "source": [
    "# lets try a lasso regression model\n",
    "\n",
    "alphas = np.array([3, 1, 0.3, 0.1])\n",
    "\n",
    "lasso_regressor = Lasso()\n",
    "\n",
    "grid = GridSearchCV(estimator = lasso_regressor, param_grid = dict(alpha=alphas))\n",
    "grid.fit(X_train, y_train)\n",
    "\n",
    "y_pred = grid.predict(X_test)\n",
    "\n",
    "print(\"Mean squared error: %.2f\" % mean_squared_error(y_test, y_pred))\n",
    "\n",
    "#print('Coefficients: \\n', lasso_regressor.coef_)\n",
    "\n",
    "ypred = grid.predict(X_test[0].reshape(1,-1))   #change to xtest[i] where i is the index of test case\n",
    "\n",
    "print(\"Predicted - lasso regression\")\n",
    "for i in list(ypred):\n",
    "    print(i)\n",
    "    print(np.ceil(i))"
   ]
  },
  {
   "cell_type": "code",
   "execution_count": 20,
   "metadata": {},
   "outputs": [
    {
     "name": "stdout",
     "output_type": "stream",
     "text": [
      "Mean squared error: 0.01\n",
      "Predicted - SVM linear kernel\n",
      "0.7618266721378641\n",
      "1.0\n"
     ]
    }
   ],
   "source": [
    "# lets also try SVMs\n",
    "svr = SVR(kernel='linear',C=0.5)\n",
    "svr.fit(X_train,y_train)\n",
    "\n",
    "y_pred = svr.predict(X_test)\n",
    "\n",
    "print(\"Mean squared error: %.2f\" % mean_squared_error(y_test,y_pred))\n",
    "\n",
    "ypred = svr.predict(X_test[0].reshape(1,-1))   #change to xtest[i] where i is the index of test case\n",
    "\n",
    "print(\"Predicted - SVM linear kernel\")\n",
    "for i in list(ypred):\n",
    "    print(i)\n",
    "    print(np.ceil(i))"
   ]
  },
  {
   "cell_type": "code",
   "execution_count": 21,
   "metadata": {},
   "outputs": [
    {
     "name": "stderr",
     "output_type": "stream",
     "text": [
      "C:\\Users\\swath\\Anaconda3\\lib\\site-packages\\sklearn\\svm\\base.py:193: FutureWarning: The default value of gamma will change from 'auto' to 'scale' in version 0.22 to account better for unscaled features. Set gamma explicitly to 'auto' or 'scale' to avoid this warning.\n",
      "  \"avoid this warning.\", FutureWarning)\n",
      "C:\\Users\\swath\\Anaconda3\\lib\\site-packages\\sklearn\\svm\\base.py:193: FutureWarning: The default value of gamma will change from 'auto' to 'scale' in version 0.22 to account better for unscaled features. Set gamma explicitly to 'auto' or 'scale' to avoid this warning.\n",
      "  \"avoid this warning.\", FutureWarning)\n",
      "C:\\Users\\swath\\Anaconda3\\lib\\site-packages\\sklearn\\svm\\base.py:193: FutureWarning: The default value of gamma will change from 'auto' to 'scale' in version 0.22 to account better for unscaled features. Set gamma explicitly to 'auto' or 'scale' to avoid this warning.\n",
      "  \"avoid this warning.\", FutureWarning)\n"
     ]
    },
    {
     "name": "stdout",
     "output_type": "stream",
     "text": [
      "[0.010864295983071044, 0.02111069567313262, 0.021470174795234956, 0.02128050471705036]\n"
     ]
    }
   ],
   "source": [
    "# see which svm model is the best\n",
    "\n",
    "options = ['linear','rbf','poly','sigmoid']\n",
    "mse = []\n",
    "\n",
    "for option in options:\n",
    "    svr = SVR(kernel=option)\n",
    "    svr.fit(X_train,y_train)\n",
    "    \n",
    "    y_pred = svr.predict(X_test)\n",
    "    \n",
    "    mse.append(mean_squared_error(y_test,y_pred))\n",
    "    \n",
    "print(mse)"
   ]
  },
  {
   "cell_type": "code",
   "execution_count": 22,
   "metadata": {},
   "outputs": [
    {
     "data": {
      "image/png": "[encoded data removed]",
      "text/plain": [
       "<Figure size 640x480 with 1 Axes>"
      ]
     },
     "metadata": {},
     "output_type": "display_data"
    }
   ],
   "source": [
    "import matplotlib.pyplot as plt; plt.rcdefaults()\n",
    "import numpy as np\n",
    "import matplotlib.pyplot as plt\n",
    " \n",
    "objects = ('linear','rbf','poly','sigmoid')\n",
    "y_pos = np.arange(len(objects))\n",
    " \n",
    "plt.bar(y_pos, mse, align='center', alpha=0.5)\n",
    "plt.xticks(y_pos, objects)\n",
    "plt.ylabel('Mean Squared Error')\n",
    "plt.title('SVM for different kernels')\n",
    " \n",
    "plt.show()"
   ]
  },
  {
   "cell_type": "code",
   "execution_count": null,
   "metadata": {},
   "outputs": [],
   "source": []
  }
 ],
 "metadata": {
  "kernelspec": {
   "display_name": "Python 3",
   "language": "python",
   "name": "python3"
  },
  "language_info": {
   "codemirror_mode": {
    "name": "ipython",
    "version": 3
   },
   "file_extension": ".py",
   "mimetype": "text/x-python",
   "name": "python",
   "nbconvert_exporter": "python",
   "pygments_lexer": "ipython3",
   "version": "3.7.3"
  }
 },
 "nbformat": 4,
 "nbformat_minor": 2
}
